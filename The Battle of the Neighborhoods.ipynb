{
 "cells": [
  {
   "cell_type": "markdown",
   "metadata": {
    "collapsed": true
   },
   "source": [
    "# The Battle of the Neighborhoods\n",
    "## Applied Data Science Capstone\n",
    "\n",
    "### 1. Introduction\n",
    "\n",
    "Effective use of government resources to build and sustain healthy, food-secure cities has become increasingly crucial as cities like NYC invest increasing resources to support sustainable and resilient food systems, enhance food security among its residents, and improve awareness of and access to nutritious foods[1]. The crisis of urban food deserts, or areas of poor-food access demonstrated by a dearth of groceries stores and/or surplus of fast food options should there be a range of restaurants the area coincides with growing interest in designing systems to address the correlated poor health outcomes in these areas. Consider that health disparities coincide between zip codes and occur along food dessert borders, and it becomes clear the complexity and criticality of creating equitable access to healthy food options. \n",
    "\n",
    "#### Business Problem and Target Audience\n",
    "\n",
    "To effectively address the problems urban food desserts present to residents and their health, we must understand where these food deserts are located. This is something that would be particularly useful for both a) citizens/grassroot organizers to, for instance, organize local farmers markets, community gardens or a networked system of local urban farmers and b) government officials to efficiently allocate government resources to address the paucity of healthy food options, which could include incentives for business like grocery stores or restaurants or targeting food education at schools, or targeting services like reduced-fee school lunches in neighborhoods designated as food deserts. \n",
    "\n",
    "This project aims to answer, \"Where are the food deserts in New York City located?\" and \"Which neighborhoods would benefit the most from having a local farmers' market, government incentives, or other interventions to address poor access to healthy food options?\". \n",
    "\n",
    "\n",
    "### 2. Data \n",
    "\n",
    "To answer these questions, Foursquare's API and GeoPy will be used to explore New York City and gather information about the restaurants, supermarkets, and grocery stores in each of the city's neighborhoods. New York City's boroughs and neighborhood boundaries, latitudes, and longitudes will be obtained from https://cocl.us/new_york_dataset. Clustering will be used to segment into food-scarce and food-secure neighborhoods. \n",
    "\n",
    "\n",
    "\n",
    "### 3. Citations\n",
    "\n",
    "[1] Gearing, Maeve E, and Theresa Anderson. “Innovations in NYC Health and Human Services Policy: Food Policy.” Urban Institute, Urban Institute, Feb. 2014, www.urban.org/sites/default/files/publication/32636/413054-Innovations-in-NYC-Health-and-Human-Services-Policy-Food-Policy.PDF. \n",
    "\n",
    "[2] Gordon C, Purciel-Hill M, Ghai NR, Kaufman L, Graham R, Van Wye G. Measuring food deserts in New York City's low-income neighborhoods. Health Place. 2011 Mar;17(2):696-700. doi: 10.1016/j.healthplace.2010.12.012. Epub 2011 Jan 6. PMID: 21256070."
   ]
  },
  {
   "cell_type": "code",
   "execution_count": null,
   "metadata": {},
   "outputs": [],
   "source": []
  }
 ],
 "metadata": {
  "kernelspec": {
   "display_name": "Python 3.7",
   "language": "python",
   "name": "python3"
  },
  "language_info": {
   "codemirror_mode": {
    "name": "ipython",
    "version": 3
   },
   "file_extension": ".py",
   "mimetype": "text/x-python",
   "name": "python",
   "nbconvert_exporter": "python",
   "pygments_lexer": "ipython3",
   "version": "3.7.9"
  }
 },
 "nbformat": 4,
 "nbformat_minor": 1
}
